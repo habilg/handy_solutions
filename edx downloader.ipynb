{
 "cells": [
  {
   "cell_type": "code",
   "execution_count": 1,
   "id": "2540aa54",
   "metadata": {},
   "outputs": [],
   "source": [
    "url= 'https://learning.edx.org/course/course-v1:StanfordOnline+STATSX0001+1T2022/home'\n",
    "links='https://learning.edx.org/course/course-v1:StanfordOnline+STATSX0001+1T2022/block-v1:StanfordOnline+STATSX0001+1T2022+type@sequential+block@99faa3a82fca4fc19adc577ce9f75afd,https://learning.edx.org/course/course-v1:StanfordOnline+STATSX0001+1T2022/block-v1:StanfordOnline+STATSX0001+1T2022+type@sequential+block@1a812f9f556b44109ce6b40178e52e4d,https://learning.edx.org/course/course-v1:StanfordOnline+STATSX0001+1T2022/block-v1:StanfordOnline+STATSX0001+1T2022+type@sequential+block@dbbe6095fa55431b8253590e2658dc3e,https://learning.edx.org/course/course-v1:StanfordOnline+STATSX0001+1T2022/block-v1:StanfordOnline+STATSX0001+1T2022+type@sequential+block@00c820e0c96d45209a8cd3c15d63c294,https://learning.edx.org/course/course-v1:StanfordOnline+STATSX0001+1T2022/block-v1:StanfordOnline+STATSX0001+1T2022+type@sequential+block@97f87bf36b4a4eeb90e1ca1171fb6750,https://learning.edx.org/course/course-v1:StanfordOnline+STATSX0001+1T2022/block-v1:StanfordOnline+STATSX0001+1T2022+type@sequential+block@72254d647bc74a989901d1b67aefd429,https://learning.edx.org/course/course-v1:StanfordOnline+STATSX0001+1T2022/block-v1:StanfordOnline+STATSX0001+1T2022+type@sequential+block@d4d18f0dda714d94b8687b2ab0b2dcec,https://learning.edx.org/course/course-v1:StanfordOnline+STATSX0001+1T2022/block-v1:StanfordOnline+STATSX0001+1T2022+type@sequential+block@cd02bd9aa5a84fa6b338546a480e3c3b,https://learning.edx.org/course/course-v1:StanfordOnline+STATSX0001+1T2022/block-v1:StanfordOnline+STATSX0001+1T2022+type@sequential+block@bdc0347d5ef74b47bd60c93eae84b924,https://learning.edx.org/course/course-v1:StanfordOnline+STATSX0001+1T2022/block-v1:StanfordOnline+STATSX0001+1T2022+type@sequential+block@441b6190c14e46c29493ae9dcc41eb05,https://learning.edx.org/course/course-v1:StanfordOnline+STATSX0001+1T2022/block-v1:StanfordOnline+STATSX0001+1T2022+type@sequential+block@a728c0772dfd494495aaf8914d59fb84,https://learning.edx.org/course/course-v1:StanfordOnline+STATSX0001+1T2022/block-v1:StanfordOnline+STATSX0001+1T2022+type@sequential+block@35b30934bfd948a188ddb93cfd532a95,https://learning.edx.org/course/course-v1:StanfordOnline+STATSX0001+1T2022/block-v1:StanfordOnline+STATSX0001+1T2022+type@sequential+block@bfb7cfefe2a94475812ac1e338460f9e,https://learning.edx.org/course/course-v1:StanfordOnline+STATSX0001+1T2022/block-v1:StanfordOnline+STATSX0001+1T2022+type@sequential+block@86583341040b45ed9889e6056db856d6,https://learning.edx.org/course/course-v1:StanfordOnline+STATSX0001+1T2022/block-v1:StanfordOnline+STATSX0001+1T2022+type@sequential+block@00b646c1309e42f2b8c1a770516fdef4,https://learning.edx.org/course/course-v1:StanfordOnline+STATSX0001+1T2022/block-v1:StanfordOnline+STATSX0001+1T2022+type@sequential+block@59079702cb414b35b0b2c5edcd752331,https://learning.edx.org/course/course-v1:StanfordOnline+STATSX0001+1T2022/block-v1:StanfordOnline+STATSX0001+1T2022+type@sequential+block@d52d8c1e3e9a439b968d9d016262a257,https://learning.edx.org/course/course-v1:StanfordOnline+STATSX0001+1T2022/block-v1:StanfordOnline+STATSX0001+1T2022+type@sequential+block@f6fd9737f77847718e7cf6497ba0539f,https://learning.edx.org/course/course-v1:StanfordOnline+STATSX0001+1T2022/block-v1:StanfordOnline+STATSX0001+1T2022+type@sequential+block@b31ca38fdedd4841b964a92a3966c352,https://learning.edx.org/course/course-v1:StanfordOnline+STATSX0001+1T2022/block-v1:StanfordOnline+STATSX0001+1T2022+type@sequential+block@b01ac47d032b4d38aed7d93108a673bf,https://learning.edx.org/course/course-v1:StanfordOnline+STATSX0001+1T2022/block-v1:StanfordOnline+STATSX0001+1T2022+type@sequential+block@6a799584d6824c3ba1c1db1ea35de419,https://learning.edx.org/course/course-v1:StanfordOnline+STATSX0001+1T2022/block-v1:StanfordOnline+STATSX0001+1T2022+type@sequential+block@59132b68ab7642b694e53d1171eb6a5a,https://learning.edx.org/course/course-v1:StanfordOnline+STATSX0001+1T2022/block-v1:StanfordOnline+STATSX0001+1T2022+type@sequential+block@564c63c594e343fd916acb023054c5f5,https://learning.edx.org/course/course-v1:StanfordOnline+STATSX0001+1T2022/block-v1:StanfordOnline+STATSX0001+1T2022+type@sequential+block@16cdfb9d62cf417c91fbcbc9dc4503fa,https://learning.edx.org/course/course-v1:StanfordOnline+STATSX0001+1T2022/block-v1:StanfordOnline+STATSX0001+1T2022+type@sequential+block@3e615c5c84894a49bbb6347c353f3a83,https://learning.edx.org/course/course-v1:StanfordOnline+STATSX0001+1T2022/block-v1:StanfordOnline+STATSX0001+1T2022+type@sequential+block@bbbc5533cd31451183d116f262c100ea,https://learning.edx.org/course/course-v1:StanfordOnline+STATSX0001+1T2022/block-v1:StanfordOnline+STATSX0001+1T2022+type@sequential+block@4066183e3bac4f9396d932e0970163bf,https://learning.edx.org/course/course-v1:StanfordOnline+STATSX0001+1T2022/block-v1:StanfordOnline+STATSX0001+1T2022+type@sequential+block@0c365a9e13094cb89facf1b9e6e02843,https://learning.edx.org/course/course-v1:StanfordOnline+STATSX0001+1T2022/block-v1:StanfordOnline+STATSX0001+1T2022+type@sequential+block@ed057ff7b3fc49c591df885e42cf0eb8,https://learning.edx.org/course/course-v1:StanfordOnline+STATSX0001+1T2022/block-v1:StanfordOnline+STATSX0001+1T2022+type@sequential+block@8938de1a9b8f494ea1cf5cb81c0e8947,https://learning.edx.org/course/course-v1:StanfordOnline+STATSX0001+1T2022/block-v1:StanfordOnline+STATSX0001+1T2022+type@sequential+block@34a08990ca204413a090d58ab92c22aa,https://learning.edx.org/course/course-v1:StanfordOnline+STATSX0001+1T2022/block-v1:StanfordOnline+STATSX0001+1T2022+type@sequential+block@045a39ba8c7749498408cf65706be51f,https://learning.edx.org/course/course-v1:StanfordOnline+STATSX0001+1T2022/block-v1:StanfordOnline+STATSX0001+1T2022+type@sequential+block@3917fe87efba4f9ea4908b9e316d5fe0,https://learning.edx.org/course/course-v1:StanfordOnline+STATSX0001+1T2022/block-v1:StanfordOnline+STATSX0001+1T2022+type@sequential+block@9339db132f504f809056f221271d9795,https://learning.edx.org/course/course-v1:StanfordOnline+STATSX0001+1T2022/block-v1:StanfordOnline+STATSX0001+1T2022+type@sequential+block@8f5ce90bd80340019b2c38e6fd42ab82,https://learning.edx.org/course/course-v1:StanfordOnline+STATSX0001+1T2022/block-v1:StanfordOnline+STATSX0001+1T2022+type@sequential+block@4654e3322a044c91ab1dd0690c454922,https://learning.edx.org/course/course-v1:StanfordOnline+STATSX0001+1T2022/block-v1:StanfordOnline+STATSX0001+1T2022+type@sequential+block@a200b5393d7246a78991d9b5a428cce7,https://learning.edx.org/course/course-v1:StanfordOnline+STATSX0001+1T2022/block-v1:StanfordOnline+STATSX0001+1T2022+type@sequential+block@b6580576409e4431b3a898d8122ca37e,https://learning.edx.org/course/course-v1:StanfordOnline+STATSX0001+1T2022/block-v1:StanfordOnline+STATSX0001+1T2022+type@sequential+block@c6fe7f06d25c4d3786e2f57a05dc0992,https://learning.edx.org/course/course-v1:StanfordOnline+STATSX0001+1T2022/block-v1:StanfordOnline+STATSX0001+1T2022+type@sequential+block@b010c724dac14079a5610ea8ff531813,https://learning.edx.org/course/course-v1:StanfordOnline+STATSX0001+1T2022/block-v1:StanfordOnline+STATSX0001+1T2022+type@sequential+block@c5b82b99d36f4b97b6d6c5140cc96fb7,https://learning.edx.org/course/course-v1:StanfordOnline+STATSX0001+1T2022/block-v1:StanfordOnline+STATSX0001+1T2022+type@sequential+block@b91ee2b82a6d49eb91e1dc6641cf5efe,https://learning.edx.org/course/course-v1:StanfordOnline+STATSX0001+1T2022/block-v1:StanfordOnline+STATSX0001+1T2022+type@sequential+block@99c04c866a9241b59736e03a1915829f,https://learning.edx.org/course/course-v1:StanfordOnline+STATSX0001+1T2022/block-v1:StanfordOnline+STATSX0001+1T2022+type@sequential+block@cc6dccd75dd041128f9c60ea311915c3,https://learning.edx.org/course/course-v1:StanfordOnline+STATSX0001+1T2022/block-v1:StanfordOnline+STATSX0001+1T2022+type@sequential+block@77d7b309956c42f28e116562b427ec7b,https://learning.edx.org/course/course-v1:StanfordOnline+STATSX0001+1T2022/block-v1:StanfordOnline+STATSX0001+1T2022+type@sequential+block@d04d935adad54682a6d2951ea316d294,https://learning.edx.org/course/course-v1:StanfordOnline+STATSX0001+1T2022/block-v1:StanfordOnline+STATSX0001+1T2022+type@sequential+block@945b8384b947450788abb8d0f6e88235,https://learning.edx.org/course/course-v1:StanfordOnline+STATSX0001+1T2022/block-v1:StanfordOnline+STATSX0001+1T2022+type@sequential+block@0fb46606cdd94708b9fcfef4efbb21d1,https://learning.edx.org/course/course-v1:StanfordOnline+STATSX0001+1T2022/block-v1:StanfordOnline+STATSX0001+1T2022+type@sequential+block@23960f99395f437bab4d19c7eaf523d0,https://learning.edx.org/course/course-v1:StanfordOnline+STATSX0001+1T2022/block-v1:StanfordOnline+STATSX0001+1T2022+type@sequential+block@06b9be5c96eb42ea83dc7f057cae4f35,https://learning.edx.org/course/course-v1:StanfordOnline+STATSX0001+1T2022/block-v1:StanfordOnline+STATSX0001+1T2022+type@sequential+block@4e220b66424f48bda59cac974565cf93,https://learning.edx.org/course/course-v1:StanfordOnline+STATSX0001+1T2022/block-v1:StanfordOnline+STATSX0001+1T2022+type@sequential+block@a071757474484065a3e2a88575fa6e12,https://learning.edx.org/course/course-v1:StanfordOnline+STATSX0001+1T2022/block-v1:StanfordOnline+STATSX0001+1T2022+type@sequential+block@10d2c51f157d456bb6c9a66fababbe16,https://learning.edx.org/course/course-v1:StanfordOnline+STATSX0001+1T2022/block-v1:StanfordOnline+STATSX0001+1T2022+type@sequential+block@0fa2d1b669d64d4388109a95591250dc,https://learning.edx.org/course/course-v1:StanfordOnline+STATSX0001+1T2022/block-v1:StanfordOnline+STATSX0001+1T2022+type@sequential+block@183f7baba27e46e9b9e46cd64a3ddbf5,https://learning.edx.org/course/course-v1:StanfordOnline+STATSX0001+1T2022/block-v1:StanfordOnline+STATSX0001+1T2022+type@sequential+block@bb3f21ec63554788b9a3023c22a98118,https://learning.edx.org/course/course-v1:StanfordOnline+STATSX0001+1T2022/block-v1:StanfordOnline+STATSX0001+1T2022+type@sequential+block@b55e5d69a4da4959934865716a0f8491,https://learning.edx.org/course/course-v1:StanfordOnline+STATSX0001+1T2022/block-v1:StanfordOnline+STATSX0001+1T2022+type@sequential+block@6ad06d5d9c5740c2ade97b311e501331,https://learning.edx.org/course/course-v1:StanfordOnline+STATSX0001+1T2022/block-v1:StanfordOnline+STATSX0001+1T2022+type@sequential+block@c08295503f0547ab819d092258701aca,https://learning.edx.org/course/course-v1:StanfordOnline+STATSX0001+1T2022/block-v1:StanfordOnline+STATSX0001+1T2022+type@sequential+block@1bbe67e98ce64f5a966ef67e1d41ceaf,https://learning.edx.org/course/course-v1:StanfordOnline+STATSX0001+1T2022/block-v1:StanfordOnline+STATSX0001+1T2022+type@sequential+block@5e052fb7f7a3430c99dcfd69fc34615e,https://learning.edx.org/course/course-v1:StanfordOnline+STATSX0001+1T2022/block-v1:StanfordOnline+STATSX0001+1T2022+type@sequential+block@e9481751b91d4f25b7a6d98fa5b7d371,https://learning.edx.org/course/course-v1:StanfordOnline+STATSX0001+1T2022/block-v1:StanfordOnline+STATSX0001+1T2022+type@sequential+block@cd47429ce9e74315a5c53630c5db9f9f,https://learning.edx.org/course/course-v1:StanfordOnline+STATSX0001+1T2022/block-v1:StanfordOnline+STATSX0001+1T2022+type@sequential+block@9a928da468294f57800857c9e7e928f3,https://learning.edx.org/course/course-v1:StanfordOnline+STATSX0001+1T2022/block-v1:StanfordOnline+STATSX0001+1T2022+type@sequential+block@4670b6eaffa84b40af6288bdbafde38e,https://learning.edx.org/course/course-v1:StanfordOnline+STATSX0001+1T2022/block-v1:StanfordOnline+STATSX0001+1T2022+type@sequential+block@2a78272c6c464c03b54e2352fab39f94,https://learning.edx.org/course/course-v1:StanfordOnline+STATSX0001+1T2022/block-v1:StanfordOnline+STATSX0001+1T2022+type@sequential+block@b43d493911fb4f9cbc244162a577177b,https://learning.edx.org/course/course-v1:StanfordOnline+STATSX0001+1T2022/block-v1:StanfordOnline+STATSX0001+1T2022+type@sequential+block@7eff0af1291548b680aef4755de24388,https://learning.edx.org/course/course-v1:StanfordOnline+STATSX0001+1T2022/block-v1:StanfordOnline+STATSX0001+1T2022+type@sequential+block@5c277deedff041cda22fe6a05a25bea3,https://learning.edx.org/course/course-v1:StanfordOnline+STATSX0001+1T2022/block-v1:StanfordOnline+STATSX0001+1T2022+type@sequential+block@875cbaded4384017af6d0b0bee467a1f,https://learning.edx.org/course/course-v1:StanfordOnline+STATSX0001+1T2022/block-v1:StanfordOnline+STATSX0001+1T2022+type@sequential+block@81d2736d817644b3b247be1bf9db74cc,https://learning.edx.org/course/course-v1:StanfordOnline+STATSX0001+1T2022/block-v1:StanfordOnline+STATSX0001+1T2022+type@sequential+block@0b46af54acda4fbca3e7799860511072,https://learning.edx.org/course/course-v1:StanfordOnline+STATSX0001+1T2022/block-v1:StanfordOnline+STATSX0001+1T2022+type@sequential+block@8de0b464ba07403b842f557b9a1c2002,https://learning.edx.org/course/course-v1:StanfordOnline+STATSX0001+1T2022/block-v1:StanfordOnline+STATSX0001+1T2022+type@sequential+block@5d9360d8414d4490bd26336f3f9ee515,https://learning.edx.org/course/course-v1:StanfordOnline+STATSX0001+1T2022/block-v1:StanfordOnline+STATSX0001+1T2022+type@sequential+block@8b3a7c7874764791a09114e4dacc290f,https://learning.edx.org/course/course-v1:StanfordOnline+STATSX0001+1T2022/block-v1:StanfordOnline+STATSX0001+1T2022+type@sequential+block@1ed41029a045482787442eb4aa7b006e,https://learning.edx.org/course/course-v1:StanfordOnline+STATSX0001+1T2022/block-v1:StanfordOnline+STATSX0001+1T2022+type@sequential+block@07e0fe8c735c42919a88013bb8e75db4,https://learning.edx.org/course/course-v1:StanfordOnline+STATSX0001+1T2022/block-v1:StanfordOnline+STATSX0001+1T2022+type@sequential+block@ce6b4550266a4166bcdc007295baebea,https://learning.edx.org/course/course-v1:StanfordOnline+STATSX0001+1T2022/block-v1:StanfordOnline+STATSX0001+1T2022+type@sequential+block@19ef27d7f0e34e3bb1abb9d1b120f299,https://learning.edx.org/course/course-v1:StanfordOnline+STATSX0001+1T2022/block-v1:StanfordOnline+STATSX0001+1T2022+type@sequential+block@80724bb1588942b9a3f737591cff734a,https://learning.edx.org/course/course-v1:StanfordOnline+STATSX0001+1T2022/block-v1:StanfordOnline+STATSX0001+1T2022+type@sequential+block@3a43020b77354a4faf8703c78725def0,https://learning.edx.org/course/course-v1:StanfordOnline+STATSX0001+1T2022/block-v1:StanfordOnline+STATSX0001+1T2022+type@sequential+block@e0bc6278379c4391b03566a667e7eb90,https://learning.edx.org/course/course-v1:StanfordOnline+STATSX0001+1T2022/block-v1:StanfordOnline+STATSX0001+1T2022+type@sequential+block@5641291e1ddb4efc8858b25152d21d13,https://learning.edx.org/course/course-v1:StanfordOnline+STATSX0001+1T2022/block-v1:StanfordOnline+STATSX0001+1T2022+type@sequential+block@c015d0a666654e358b663cba2b561d4e,https://learning.edx.org/course/course-v1:StanfordOnline+STATSX0001+1T2022/block-v1:StanfordOnline+STATSX0001+1T2022+type@sequential+block@4a932270a92e4ed99957ed15ab9560ce,https://learning.edx.org/course/course-v1:StanfordOnline+STATSX0001+1T2022/block-v1:StanfordOnline+STATSX0001+1T2022+type@sequential+block@071c6c4e4647403bbe585711512e3e5c,https://learning.edx.org/course/course-v1:StanfordOnline+STATSX0001+1T2022/block-v1:StanfordOnline+STATSX0001+1T2022+type@sequential+block@005632d64eec4fe293d6c346ed364ecc,https://learning.edx.org/course/course-v1:StanfordOnline+STATSX0001+1T2022/block-v1:StanfordOnline+STATSX0001+1T2022+type@sequential+block@d5befef2249f4fecab75d4be9210a980,https://learning.edx.org/course/course-v1:StanfordOnline+STATSX0001+1T2022/block-v1:StanfordOnline+STATSX0001+1T2022+type@sequential+block@d9fb466566a346279a658adc50a4b450,https://learning.edx.org/course/course-v1:StanfordOnline+STATSX0001+1T2022/block-v1:StanfordOnline+STATSX0001+1T2022+type@sequential+block@fed5d97f0a5d484d85fdd7ed5d2ebb1a,https://learning.edx.org/course/course-v1:StanfordOnline+STATSX0001+1T2022/block-v1:StanfordOnline+STATSX0001+1T2022+type@sequential+block@af213a3522b1488686afd05b6a5fcae7,https://learning.edx.org/course/course-v1:StanfordOnline+STATSX0001+1T2022/block-v1:StanfordOnline+STATSX0001+1T2022+type@sequential+block@73edc3c8a5a345df8f93cd869a70c0eb,https://learning.edx.org/course/course-v1:StanfordOnline+STATSX0001+1T2022/block-v1:StanfordOnline+STATSX0001+1T2022+type@sequential+block@7c87061bd65545dd82377ae89cfa4a5a,https://learning.edx.org/course/course-v1:StanfordOnline+STATSX0001+1T2022/block-v1:StanfordOnline+STATSX0001+1T2022+type@sequential+block@5dcb73f4d7f64d8b8c77b42adf29fab0,https://learning.edx.org/course/course-v1:StanfordOnline+STATSX0001+1T2022/block-v1:StanfordOnline+STATSX0001+1T2022+type@sequential+block@19ffa8fc965c43faa9b9f417dfcc47bb,https://learning.edx.org/course/course-v1:StanfordOnline+STATSX0001+1T2022/block-v1:StanfordOnline+STATSX0001+1T2022+type@sequential+block@9ccfdb23c840465fa6f606f873a81e44,https://learning.edx.org/course/course-v1:StanfordOnline+STATSX0001+1T2022/block-v1:StanfordOnline+STATSX0001+1T2022+type@sequential+block@b5716851551b4b79b336804b946aef00,https://learning.edx.org/course/course-v1:StanfordOnline+STATSX0001+1T2022/block-v1:StanfordOnline+STATSX0001+1T2022+type@sequential+block@ec55589df80845c0831f2aba3aefb150,https://learning.edx.org/course/course-v1:StanfordOnline+STATSX0001+1T2022/block-v1:StanfordOnline+STATSX0001+1T2022+type@sequential+block@e9057f41198a4fbb8e0c755d39bb5c7f,https://learning.edx.org/course/course-v1:StanfordOnline+STATSX0001+1T2022/block-v1:StanfordOnline+STATSX0001+1T2022+type@sequential+block@00b3c3278ae145079ee043dd4b2648f9,https://learning.edx.org/course/course-v1:StanfordOnline+STATSX0001+1T2022/block-v1:StanfordOnline+STATSX0001+1T2022+type@sequential+block@1ebf32e0f2fb4fd28199626cb521f00c,https://learning.edx.org/course/course-v1:StanfordOnline+STATSX0001+1T2022/block-v1:StanfordOnline+STATSX0001+1T2022+type@sequential+block@312f2fc85de4494899516258e945f55a,https://learning.edx.org/course/course-v1:StanfordOnline+STATSX0001+1T2022/block-v1:StanfordOnline+STATSX0001+1T2022+type@sequential+block@bc25c42f025f4809bfe87fce87d74529,https://learning.edx.org/course/course-v1:StanfordOnline+STATSX0001+1T2022/block-v1:StanfordOnline+STATSX0001+1T2022+type@sequential+block@6636291d9a004bf9ae9fe38d6a11ee08'"
   ]
  },
  {
   "cell_type": "code",
   "execution_count": 2,
   "id": "43558f54",
   "metadata": {},
   "outputs": [],
   "source": [
    "links=links.split(',')"
   ]
  },
  {
   "cell_type": "code",
   "execution_count": 3,
   "id": "ba7809f9",
   "metadata": {},
   "outputs": [
    {
     "data": {
      "text/plain": [
       "104"
      ]
     },
     "execution_count": 3,
     "metadata": {},
     "output_type": "execute_result"
    }
   ],
   "source": [
    "len(links)"
   ]
  },
  {
   "cell_type": "code",
   "execution_count": 7,
   "id": "25b3052a",
   "metadata": {},
   "outputs": [
    {
     "data": {
      "text/plain": [
       "'https://learning.edx.org/course/course-v1:StanfordOnline+STATSX0001+1T2022/block-v1:StanfordOnline+STATSX0001+1T2022+type@sequential+block@99faa3a82fca4fc19adc577ce9f75afd'"
      ]
     },
     "execution_count": 7,
     "metadata": {},
     "output_type": "execute_result"
    }
   ],
   "source": [
    "links[0]"
   ]
  },
  {
   "cell_type": "code",
   "execution_count": 4,
   "id": "f0879f75",
   "metadata": {},
   "outputs": [],
   "source": [
    "video_selector= \"document.querySelector('.wrapper-downloads a').href\""
   ]
  },
  {
   "cell_type": "code",
   "execution_count": 5,
   "id": "39e3331f",
   "metadata": {},
   "outputs": [],
   "source": [
    "sub=\"document.querySelector('.list-download-transcripts a').href\""
   ]
  },
  {
   "cell_type": "code",
   "execution_count": 6,
   "id": "cbf62992",
   "metadata": {},
   "outputs": [],
   "source": [
    "title=\"document.querySelector('h1').innerText\""
   ]
  },
  {
   "cell_type": "code",
   "execution_count": null,
   "id": "88a4c2b9",
   "metadata": {},
   "outputs": [],
   "source": []
  }
 ],
 "metadata": {
  "kernelspec": {
   "display_name": "Python 3 (ipykernel)",
   "language": "python",
   "name": "python3"
  },
  "language_info": {
   "codemirror_mode": {
    "name": "ipython",
    "version": 3
   },
   "file_extension": ".py",
   "mimetype": "text/x-python",
   "name": "python",
   "nbconvert_exporter": "python",
   "pygments_lexer": "ipython3",
   "version": "3.9.7"
  },
  "toc": {
   "base_numbering": 1,
   "nav_menu": {},
   "number_sections": true,
   "sideBar": true,
   "skip_h1_title": false,
   "title_cell": "Table of Contents",
   "title_sidebar": "Contents",
   "toc_cell": false,
   "toc_position": {},
   "toc_section_display": true,
   "toc_window_display": false
  }
 },
 "nbformat": 4,
 "nbformat_minor": 5
}
